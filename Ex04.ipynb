{
 "cells": [
  {
   "cell_type": "code",
   "execution_count": 1,
   "id": "aa1360fb-b46a-439f-93d3-2f6e615c8fd4",
   "metadata": {
    "id": "aa1360fb-b46a-439f-93d3-2f6e615c8fd4",
    "tags": []
   },
   "outputs": [
    {
     "name": "stderr",
     "output_type": "stream",
     "text": [
      "2022-10-01 11:37:28.414568: I tensorflow/core/platform/cpu_feature_guard.cc:193] This TensorFlow binary is optimized with oneAPI Deep Neural Network Library (oneDNN) to use the following CPU instructions in performance-critical operations:  AVX2 AVX512F AVX512_VNNI FMA\n",
      "To enable them in other operations, rebuild TensorFlow with the appropriate compiler flags.\n",
      "2022-10-01 11:37:28.421330: I tensorflow/stream_executor/cuda/cuda_gpu_executor.cc:975] successful NUMA node read from SysFS had negative value (-1), but there must be at least one NUMA node, so returning NUMA node zero\n",
      "2022-10-01 11:37:28.428505: I tensorflow/stream_executor/cuda/cuda_gpu_executor.cc:975] successful NUMA node read from SysFS had negative value (-1), but there must be at least one NUMA node, so returning NUMA node zero\n",
      "2022-10-01 11:37:28.428652: I tensorflow/stream_executor/cuda/cuda_gpu_executor.cc:975] successful NUMA node read from SysFS had negative value (-1), but there must be at least one NUMA node, so returning NUMA node zero\n"
     ]
    },
    {
     "name": "stdout",
     "output_type": "stream",
     "text": [
      "Device mapping:\n",
      "/job:localhost/replica:0/task:0/device:GPU:0 -> device: 0, name: GRID A100D-16C, pci bus id: 0000:02:00.0, compute capability: 8.0\n",
      "\n"
     ]
    },
    {
     "name": "stderr",
     "output_type": "stream",
     "text": [
      "2022-10-01 11:37:28.995284: I tensorflow/stream_executor/cuda/cuda_gpu_executor.cc:975] successful NUMA node read from SysFS had negative value (-1), but there must be at least one NUMA node, so returning NUMA node zero\n",
      "2022-10-01 11:37:28.995442: I tensorflow/stream_executor/cuda/cuda_gpu_executor.cc:975] successful NUMA node read from SysFS had negative value (-1), but there must be at least one NUMA node, so returning NUMA node zero\n",
      "2022-10-01 11:37:28.995542: I tensorflow/stream_executor/cuda/cuda_gpu_executor.cc:975] successful NUMA node read from SysFS had negative value (-1), but there must be at least one NUMA node, so returning NUMA node zero\n",
      "2022-10-01 11:37:28.995626: I tensorflow/core/common_runtime/gpu/gpu_device.cc:1532] Created device /job:localhost/replica:0/task:0/device:GPU:0 with 11707 MB memory:  -> device: 0, name: GRID A100D-16C, pci bus id: 0000:02:00.0, compute capability: 8.0\n"
     ]
    }
   ],
   "source": [
    "import os\n",
    "import pandas as pd\n",
    "import numpy as np\n",
    "import seaborn as sns\n",
    "import matplotlib.pyplot as plt\n",
    "from matplotlib.image import imread\n",
    "from tensorflow.keras.preprocessing.image import ImageDataGenerator\n",
    "from tensorflow import keras\n",
    "from tensorflow.keras import layers\n",
    "from tensorflow.keras import utils\n",
    "from tensorflow.keras import models\n",
    "from sklearn.metrics import classification_report,confusion_matrix\n",
    "import tensorflow as tf\n",
    "# to share the GPU resources for multiple sessions\n",
    "from tensorflow.compat.v1.keras.backend import set_session\n",
    "config = tf.compat.v1.ConfigProto()\n",
    "config.gpu_options.allow_growth = True # dynamically grow the memory used on the GPU\n",
    "config.log_device_placement = True # to log device placement (on which device the operation ran)\n",
    "sess = tf.compat.v1.Session(config=config)\n",
    "set_session(sess)\n",
    "\n",
    "%matplotlib inline"
   ]
  },
  {
   "cell_type": "markdown",
   "id": "FDqjet2yaBXP",
   "metadata": {
    "id": "FDqjet2yaBXP"
   },
   "source": [
    "**Dataset Download Link**\n",
    "[https://drive.google.com/file/d/1ULKLK_R0qsLho6PzfUIOwTXOStk3w5jd/view?usp=sharing](https://drive.google.com/file/d/1ULKLK_R0qsLho6PzfUIOwTXOStk3w5jd/view?usp=sharing)"
   ]
  },
  {
   "cell_type": "code",
   "execution_count": 4,
   "id": "TdUVJd_ydtpE",
   "metadata": {
    "id": "TdUVJd_ydtpE"
   },
   "outputs": [],
   "source": [
    "# Upload this file to your google drive"
   ]
  },
  {
   "cell_type": "code",
   "execution_count": 5,
   "id": "u3KlPZrrZ6N8",
   "metadata": {
    "colab": {
     "base_uri": "https://localhost:8080/"
    },
    "id": "u3KlPZrrZ6N8",
    "outputId": "cf13161c-0654-4a58-8586-177bc4196e01"
   },
   "outputs": [],
   "source": [
    "# for Google Colab\n",
    "#drive.mount('/content/drive')"
   ]
  },
  {
   "cell_type": "code",
   "execution_count": 6,
   "id": "ypjnFvd-dpot",
   "metadata": {
    "id": "ypjnFvd-dpot"
   },
   "outputs": [],
   "source": [
    "# for Google Colab\n",
    "#!tar --skip-old-files -xvf '/content/drive/MyDrive/Dataset/cell_images.tar.xz' -C '/content/drive/MyDrive/Dataset/'"
   ]
  },
  {
   "cell_type": "code",
   "execution_count": 7,
   "id": "38eca3bd-9b30-4e32-8b69-4f733a4ef3c8",
   "metadata": {
    "id": "38eca3bd-9b30-4e32-8b69-4f733a4ef3c8"
   },
   "outputs": [],
   "source": [
    "# for Google Colab\n",
    "#my_data_dir = '/content/drive/MyDrive/Dataset/cell_images'"
   ]
  },
  {
   "cell_type": "code",
   "execution_count": 2,
   "id": "f864306d-31e0-4c81-aa0d-0a4c61456dc1",
   "metadata": {},
   "outputs": [],
   "source": [
    "# for college server\n",
    "my_data_dir = '/home/ailab/hdd/dataset/cell_images'"
   ]
  },
  {
   "cell_type": "code",
   "execution_count": 3,
   "id": "e7ac3968-6bb1-4266-a91c-42531286760a",
   "metadata": {
    "colab": {
     "base_uri": "https://localhost:8080/"
    },
    "id": "e7ac3968-6bb1-4266-a91c-42531286760a",
    "outputId": "0e9f7b27-e5e5-4806-db38-ede282b98b15"
   },
   "outputs": [
    {
     "data": {
      "text/plain": [
       "['train', 'test', '.ipynb_checkpoints']"
      ]
     },
     "execution_count": 3,
     "metadata": {},
     "output_type": "execute_result"
    }
   ],
   "source": [
    "os.listdir(my_data_dir)"
   ]
  },
  {
   "cell_type": "code",
   "execution_count": 4,
   "id": "9b1ab1fa-99d5-4ddf-b777-784cf312deda",
   "metadata": {
    "id": "9b1ab1fa-99d5-4ddf-b777-784cf312deda"
   },
   "outputs": [],
   "source": [
    "test_path = my_data_dir+'/test/'\n",
    "train_path = my_data_dir+'/train/'"
   ]
  },
  {
   "cell_type": "code",
   "execution_count": 5,
   "id": "2c64cb87-d1aa-4a76-9576-9d3c56f730d6",
   "metadata": {
    "colab": {
     "base_uri": "https://localhost:8080/"
    },
    "id": "2c64cb87-d1aa-4a76-9576-9d3c56f730d6",
    "outputId": "b04da70e-5392-4ae2-a7e1-44c7ad7bd73b"
   },
   "outputs": [
    {
     "data": {
      "text/plain": [
       "['parasitized', 'uninfected']"
      ]
     },
     "execution_count": 5,
     "metadata": {},
     "output_type": "execute_result"
    }
   ],
   "source": [
    "os.listdir(test_path)"
   ]
  },
  {
   "cell_type": "code",
   "execution_count": 6,
   "id": "ZI5m1DWTbk3N",
   "metadata": {
    "colab": {
     "base_uri": "https://localhost:8080/"
    },
    "id": "ZI5m1DWTbk3N",
    "outputId": "dbc4881c-0850-4af8-ea97-96c8e790396c"
   },
   "outputs": [
    {
     "data": {
      "text/plain": [
       "12479"
      ]
     },
     "execution_count": 6,
     "metadata": {},
     "output_type": "execute_result"
    }
   ],
   "source": [
    "len(os.listdir(train_path+'/uninfected/'))"
   ]
  },
  {
   "cell_type": "code",
   "execution_count": 7,
   "id": "b6r_BpiPbtEc",
   "metadata": {
    "colab": {
     "base_uri": "https://localhost:8080/"
    },
    "id": "b6r_BpiPbtEc",
    "outputId": "4a7d1a2c-f51d-4f06-e798-b98cb434a721"
   },
   "outputs": [
    {
     "data": {
      "text/plain": [
       "12480"
      ]
     },
     "execution_count": 7,
     "metadata": {},
     "output_type": "execute_result"
    }
   ],
   "source": [
    "len(os.listdir(train_path+'/parasitized/'))"
   ]
  },
  {
   "cell_type": "code",
   "execution_count": 8,
   "id": "33d3464e-895c-432f-8d51-7d55f59d1324",
   "metadata": {
    "colab": {
     "base_uri": "https://localhost:8080/",
     "height": 35
    },
    "id": "33d3464e-895c-432f-8d51-7d55f59d1324",
    "outputId": "f273e1a2-820e-4bba-f9b8-820695ceeac7"
   },
   "outputs": [
    {
     "data": {
      "text/plain": [
       "'C101P62ThinF_IMG_20150923_165215_cell_7.png'"
      ]
     },
     "execution_count": 8,
     "metadata": {},
     "output_type": "execute_result"
    }
   ],
   "source": [
    "os.listdir(train_path+'/parasitized')[0]"
   ]
  },
  {
   "cell_type": "code",
   "execution_count": 9,
   "id": "48c48cb9-e5de-4088-8215-98d5b6534846",
   "metadata": {
    "id": "48c48cb9-e5de-4088-8215-98d5b6534846"
   },
   "outputs": [],
   "source": [
    "para_img= imread(train_path+\n",
    "                 '/parasitized/'+\n",
    "                 os.listdir(train_path+'/parasitized')[0])"
   ]
  },
  {
   "cell_type": "code",
   "execution_count": 10,
   "id": "518b6ed6-3759-4f58-8092-dc10e802f2ec",
   "metadata": {
    "id": "518b6ed6-3759-4f58-8092-dc10e802f2ec",
    "outputId": "bfbd2e3b-3b0b-42fa-8407-13f36dfc1372"
   },
   "outputs": [
    {
     "data": {
      "text/plain": [
       "<matplotlib.image.AxesImage at 0x7f93640289d0>"
      ]
     },
     "execution_count": 10,
     "metadata": {},
     "output_type": "execute_result"
    },
    {
     "data": {
      "image/png": "[encoded data removed]",
      "text/plain": [
       "<Figure size 432x288 with 1 Axes>"
      ]
     },
     "metadata": {
      "needs_background": "light"
     },
     "output_type": "display_data"
    }
   ],
   "source": [
    "plt.imshow(para_img)"
   ]
  },
  {
   "cell_type": "code",
   "execution_count": 11,
   "id": "cc4b2bdf-89c9-4fc8-9fbe-ca06adef8b87",
   "metadata": {
    "id": "cc4b2bdf-89c9-4fc8-9fbe-ca06adef8b87"
   },
   "outputs": [],
   "source": [
    "# Checking the image dimensions\n",
    "dim1 = []\n",
    "dim2 = []\n",
    "for image_filename in os.listdir(test_path+'/uninfected'):\n",
    "    img = imread(test_path+'/uninfected'+'/'+image_filename)\n",
    "    d1,d2,colors = img.shape\n",
    "    dim1.append(d1)\n",
    "    dim2.append(d2)"
   ]
  },
  {
   "cell_type": "code",
   "execution_count": 12,
   "id": "af59ed8a-c47f-4010-9029-70c1ea2c612b",
   "metadata": {
    "colab": {
     "base_uri": "https://localhost:8080/",
     "height": 458
    },
    "id": "af59ed8a-c47f-4010-9029-70c1ea2c612b",
    "outputId": "5a4e58bd-8802-4993-dcc4-2c294f599e7d"
   },
   "outputs": [
    {
     "data": {
      "text/plain": [
       "<seaborn.axisgrid.JointGrid at 0x7f935c5cba30>"
      ]
     },
     "execution_count": 12,
     "metadata": {},
     "output_type": "execute_result"
    },
    {
     "data": {
      "image/png": "[encoded data removed]",
      "text/plain": [
       "<Figure size 432x432 with 3 Axes>"
      ]
     },
     "metadata": {
      "needs_background": "light"
     },
     "output_type": "display_data"
    }
   ],
   "source": [
    "sns.jointplot(x=dim1,y=dim2)"
   ]
  },
  {
   "cell_type": "code",
   "execution_count": 13,
   "id": "a6fde849-4f2e-49d4-872b-3f8b25c1d787",
   "metadata": {
    "id": "a6fde849-4f2e-49d4-872b-3f8b25c1d787"
   },
   "outputs": [],
   "source": [
    "image_shape = (130,130,3)"
   ]
  },
  {
   "cell_type": "code",
   "execution_count": 14,
   "id": "b27bf37e-0a2c-4411-a50c-eec1849c5080",
   "metadata": {
    "id": "b27bf37e-0a2c-4411-a50c-eec1849c5080"
   },
   "outputs": [],
   "source": [
    "#help(ImageDataGenerator)"
   ]
  },
  {
   "cell_type": "code",
   "execution_count": 15,
   "id": "a3b66990-026e-4635-8173-9c32d6a0a04d",
   "metadata": {
    "id": "a3b66990-026e-4635-8173-9c32d6a0a04d"
   },
   "outputs": [],
   "source": [
    "image_gen = ImageDataGenerator(rotation_range=20, # rotate the image 20 degrees\n",
    "                               width_shift_range=0.10, # Shift the pic width by a max of 5%\n",
    "                               height_shift_range=0.10, # Shift the pic height by a max of 5%\n",
    "                               rescale=1/255, # Rescale the image by normalzing it.\n",
    "                               shear_range=0.1, # Shear means cutting away part of the image (max 10%)\n",
    "                               zoom_range=0.1, # Zoom in by 10% max\n",
    "                               horizontal_flip=True, # Allo horizontal flipping\n",
    "                               fill_mode='nearest' # Fill in missing pixels with the nearest filled value\n",
    "                              )"
   ]
  },
  {
   "cell_type": "code",
   "execution_count": 16,
   "id": "e386c090-7cc5-4c32-8312-c7e59fab76bd",
   "metadata": {
    "colab": {
     "base_uri": "https://localhost:8080/"
    },
    "id": "e386c090-7cc5-4c32-8312-c7e59fab76bd",
    "outputId": "178ac595-dde9-47b3-837a-dc8aa5f287e1"
   },
   "outputs": [
    {
     "name": "stdout",
     "output_type": "stream",
     "text": [
      "Found 24961 images belonging to 2 classes.\n"
     ]
    },
    {
     "data": {
      "text/plain": [
       "<keras.preprocessing.image.DirectoryIterator at 0x7f935c5cb0a0>"
      ]
     },
     "execution_count": 16,
     "metadata": {},
     "output_type": "execute_result"
    }
   ],
   "source": [
    "image_gen.flow_from_directory(train_path)"
   ]
  },
  {
   "cell_type": "code",
   "execution_count": 17,
   "id": "e1c05004-c87c-41e2-a797-dd986b4ade02",
   "metadata": {
    "id": "e1c05004-c87c-41e2-a797-dd986b4ade02",
    "outputId": "bb0424c3-f615-416d-a0d9-53d86aa2449c"
   },
   "outputs": [
    {
     "name": "stdout",
     "output_type": "stream",
     "text": [
      "Found 2600 images belonging to 2 classes.\n"
     ]
    },
    {
     "data": {
      "text/plain": [
       "<keras.preprocessing.image.DirectoryIterator at 0x7f93f87c9400>"
      ]
     },
     "execution_count": 17,
     "metadata": {},
     "output_type": "execute_result"
    }
   ],
   "source": [
    "image_gen.flow_from_directory(test_path)"
   ]
  },
  {
   "cell_type": "code",
   "execution_count": 19,
   "id": "ccbaf2f1-375a-45ca-84c8-b61af54da689",
   "metadata": {
    "id": "42bb1396-d1a8-4d9c-8fa7-1690c6c9923a"
   },
   "outputs": [],
   "source": [
    "model = models.Sequential([\n",
    "    layers.Input((130,130,3)),\n",
    "    layers.Conv2D(32,kernel_size=3,activation=\"relu\",padding=\"same\"),\n",
    "    layers.MaxPool2D((2,2)),\n",
    "    layers.Conv2D(32,kernel_size=3,activation=\"relu\"),\n",
    "    layers.MaxPool2D((2,2)),\n",
    "    layers.Conv2D(32,kernel_size=3,activation=\"relu\"),\n",
    "    layers.MaxPool2D((2,2)),\n",
    "    layers.Flatten(),\n",
    "    layers.Dense(32,activation=\"relu\"),\n",
    "    layers.Dense(1,activation=\"sigmoid\")])\n",
    "\n",
    "model.compile(loss=\"binary_crossentropy\", metrics='accuracy',optimizer=\"adam\")"
   ]
  },
  {
   "cell_type": "code",
   "execution_count": 20,
   "id": "be5155d0-8c1c-4fa6-9ed9-a92a66e82e65",
   "metadata": {
    "id": "e0526111-8ffb-4c48-9721-1227dfea0cfe",
    "outputId": "bda8db64-4994-47d5-d2ae-4cdafab1bbb9"
   },
   "outputs": [
    {
     "name": "stdout",
     "output_type": "stream",
     "text": [
      "Model: \"sequential_1\"\n",
      "_________________________________________________________________\n",
      " Layer (type)                Output Shape              Param #   \n",
      "=================================================================\n",
      " conv2d_3 (Conv2D)           (None, 130, 130, 32)      896       \n",
      "                                                                 \n",
      " max_pooling2d_3 (MaxPooling  (None, 65, 65, 32)       0         \n",
      " 2D)                                                             \n",
      "                                                                 \n",
      " conv2d_4 (Conv2D)           (None, 63, 63, 32)        9248      \n",
      "                                                                 \n",
      " max_pooling2d_4 (MaxPooling  (None, 31, 31, 32)       0         \n",
      " 2D)                                                             \n",
      "                                                                 \n",
      " conv2d_5 (Conv2D)           (None, 29, 29, 32)        9248      \n",
      "                                                                 \n",
      " max_pooling2d_5 (MaxPooling  (None, 14, 14, 32)       0         \n",
      " 2D)                                                             \n",
      "                                                                 \n",
      " flatten_1 (Flatten)         (None, 6272)              0         \n",
      "                                                                 \n",
      " dense_2 (Dense)             (None, 32)                200736    \n",
      "                                                                 \n",
      " dense_3 (Dense)             (None, 1)                 33        \n",
      "                                                                 \n",
      "=================================================================\n",
      "Total params: 220,161\n",
      "Trainable params: 220,161\n",
      "Non-trainable params: 0\n",
      "_________________________________________________________________\n"
     ]
    }
   ],
   "source": [
    "model.summary()"
   ]
  },
  {
   "cell_type": "code",
   "execution_count": 21,
   "id": "66ee2c5e-bcd3-47c4-a7f7-2bf2148f6065",
   "metadata": {
    "id": "66ee2c5e-bcd3-47c4-a7f7-2bf2148f6065"
   },
   "outputs": [],
   "source": [
    "batch_size = 16"
   ]
  },
  {
   "cell_type": "code",
   "execution_count": 22,
   "id": "52f833b2-5a68-4071-aa11-ab7ad7f1011e",
   "metadata": {
    "id": "52f833b2-5a68-4071-aa11-ab7ad7f1011e"
   },
   "outputs": [],
   "source": [
    "#help(image_gen.flow_from_directory)"
   ]
  },
  {
   "cell_type": "code",
   "execution_count": 23,
   "id": "43e258c8-58f5-4185-8bcb-2352d898a04f",
   "metadata": {
    "id": "43e258c8-58f5-4185-8bcb-2352d898a04f",
    "outputId": "6f63580b-37a9-40fe-c342-199c63725da0"
   },
   "outputs": [
    {
     "name": "stdout",
     "output_type": "stream",
     "text": [
      "Found 24961 images belonging to 2 classes.\n"
     ]
    }
   ],
   "source": [
    "train_image_gen = image_gen.flow_from_directory(train_path,\n",
    "                                               target_size=image_shape[:2],\n",
    "                                                color_mode='rgb',\n",
    "                                               batch_size=batch_size,\n",
    "                                               class_mode='binary')"
   ]
  },
  {
   "cell_type": "code",
   "execution_count": 24,
   "id": "0303e560-0272-442b-b535-d95749b17088",
   "metadata": {
    "id": "0303e560-0272-442b-b535-d95749b17088",
    "outputId": "ad4997ec-1111-437d-d8e9-355e6a135d0f"
   },
   "outputs": [
    {
     "data": {
      "text/plain": [
       "16"
      ]
     },
     "execution_count": 24,
     "metadata": {},
     "output_type": "execute_result"
    }
   ],
   "source": [
    "train_image_gen.batch_size"
   ]
  },
  {
   "cell_type": "code",
   "execution_count": 25,
   "id": "3519d656-3ff8-4728-96d8-efb61fc6b5a6",
   "metadata": {
    "id": "3519d656-3ff8-4728-96d8-efb61fc6b5a6",
    "outputId": "5df7fa5d-672f-4118-b82b-8abf3815f485"
   },
   "outputs": [
    {
     "data": {
      "text/plain": [
       "24961"
      ]
     },
     "execution_count": 25,
     "metadata": {},
     "output_type": "execute_result"
    }
   ],
   "source": [
    "len(train_image_gen.classes)"
   ]
  },
  {
   "cell_type": "code",
   "execution_count": 26,
   "id": "f6f8a0f5-4ca9-493a-8d25-c531523d7412",
   "metadata": {
    "id": "f6f8a0f5-4ca9-493a-8d25-c531523d7412",
    "outputId": "f288381e-683e-4d2f-9025-f031d1c2dae0"
   },
   "outputs": [
    {
     "data": {
      "text/plain": [
       "0"
      ]
     },
     "execution_count": 26,
     "metadata": {},
     "output_type": "execute_result"
    }
   ],
   "source": [
    "train_image_gen.total_batches_seen"
   ]
  },
  {
   "cell_type": "code",
   "execution_count": 27,
   "id": "f72afe88-5ab6-440d-bf94-a2df7b7c8a1f",
   "metadata": {
    "id": "f72afe88-5ab6-440d-bf94-a2df7b7c8a1f",
    "outputId": "86e3a49e-7629-42dd-e4cd-047d6e37e25e"
   },
   "outputs": [
    {
     "name": "stdout",
     "output_type": "stream",
     "text": [
      "Found 2600 images belonging to 2 classes.\n"
     ]
    }
   ],
   "source": [
    "test_image_gen = image_gen.flow_from_directory(test_path,\n",
    "                                               target_size=image_shape[:2],\n",
    "                                               color_mode='rgb',\n",
    "                                               batch_size=batch_size,\n",
    "                                               class_mode='binary',shuffle=False)"
   ]
  },
  {
   "cell_type": "code",
   "execution_count": 28,
   "id": "c4ed0833-94d2-416a-9de8-b02e131fc95d",
   "metadata": {
    "id": "c4ed0833-94d2-416a-9de8-b02e131fc95d",
    "outputId": "efb39d43-d300-4cf5-a470-e30ab4848b39"
   },
   "outputs": [
    {
     "data": {
      "text/plain": [
       "{'parasitized': 0, 'uninfected': 1}"
      ]
     },
     "execution_count": 28,
     "metadata": {},
     "output_type": "execute_result"
    }
   ],
   "source": [
    "train_image_gen.class_indices"
   ]
  },
  {
   "cell_type": "code",
   "execution_count": 29,
   "id": "217ef4c4-0cd7-4d7c-954b-cee1717a4f8d",
   "metadata": {
    "id": "217ef4c4-0cd7-4d7c-954b-cee1717a4f8d",
    "outputId": "8f2be0f2-d3be-4b35-a5cf-76c5ef8348a5"
   },
   "outputs": [
    {
     "name": "stdout",
     "output_type": "stream",
     "text": [
      "Epoch 1/5\n"
     ]
    },
    {
     "name": "stderr",
     "output_type": "stream",
     "text": [
      "2022-10-01 11:38:05.341615: I tensorflow/stream_executor/cuda/cuda_dnn.cc:384] Loaded cuDNN version 8201\n",
      "2022-10-01 11:38:06.874559: I tensorflow/stream_executor/cuda/cuda_blas.cc:1786] TensorFloat-32 will be used for the matrix multiplication. This will only be logged once.\n"
     ]
    },
    {
     "name": "stdout",
     "output_type": "stream",
     "text": [
      "1561/1561 [==============================] - 102s 63ms/step - loss: 0.3201 - accuracy: 0.8616 - val_loss: 0.2058 - val_accuracy: 0.9304\n",
      "Epoch 2/5\n",
      "1561/1561 [==============================] - 98s 63ms/step - loss: 0.1941 - accuracy: 0.9366 - val_loss: 0.2019 - val_accuracy: 0.9338\n",
      "Epoch 3/5\n",
      "1561/1561 [==============================] - 99s 63ms/step - loss: 0.1752 - accuracy: 0.9428 - val_loss: 0.1721 - val_accuracy: 0.9438\n",
      "Epoch 4/5\n",
      "1561/1561 [==============================] - 99s 63ms/step - loss: 0.1629 - accuracy: 0.9492 - val_loss: 0.1616 - val_accuracy: 0.9477\n",
      "Epoch 5/5\n",
      "1561/1561 [==============================] - 99s 63ms/step - loss: 0.1475 - accuracy: 0.9520 - val_loss: 0.1698 - val_accuracy: 0.9388\n"
     ]
    }
   ],
   "source": [
    "results = model.fit(train_image_gen,epochs=5,validation_data=test_image_gen)"
   ]
  },
  {
   "cell_type": "code",
   "execution_count": 30,
   "id": "9b823735-06b3-4da7-9e22-946b3cd77f34",
   "metadata": {
    "id": "9b823735-06b3-4da7-9e22-946b3cd77f34"
   },
   "outputs": [],
   "source": [
    "model.save('cell_model1.h5')"
   ]
  },
  {
   "cell_type": "code",
   "execution_count": 31,
   "id": "dbf79be3-2d95-41b9-8c84-79dcb85d30be",
   "metadata": {
    "id": "dbf79be3-2d95-41b9-8c84-79dcb85d30be"
   },
   "outputs": [
    {
     "data": {
      "text/plain": [
       "<AxesSubplot:>"
      ]
     },
     "execution_count": 31,
     "metadata": {},
     "output_type": "execute_result"
    },
    {
     "data": {
      "image/png": "[encoded data removed]",
      "text/plain": [
       "<Figure size 432x288 with 1 Axes>"
      ]
     },
     "metadata": {
      "needs_background": "light"
     },
     "output_type": "display_data"
    }
   ],
   "source": [
    "losses = pd.DataFrame(model.history.history)\n",
    "losses.plot()"
   ]
  },
  {
   "cell_type": "code",
   "execution_count": 32,
   "id": "aff69bd3-8577-4aed-be44-ad71efe2d7e9",
   "metadata": {
    "id": "aff69bd3-8577-4aed-be44-ad71efe2d7e9",
    "outputId": "4b2ed6b3-e163-40b7-8bc4-4fd81a0c45ca"
   },
   "outputs": [
    {
     "data": {
      "text/plain": [
       "<AxesSubplot:>"
      ]
     },
     "execution_count": 32,
     "metadata": {},
     "output_type": "execute_result"
    },
    {
     "data": {
      "image/png": "[encoded data removed]",
      "text/plain": [
       "<Figure size 432x288 with 1 Axes>"
      ]
     },
     "metadata": {
      "needs_background": "light"
     },
     "output_type": "display_data"
    }
   ],
   "source": [
    "losses[['loss','val_loss']].plot()"
   ]
  },
  {
   "cell_type": "code",
   "execution_count": 33,
   "id": "d13eca2e-acc4-4834-a348-895320f2154a",
   "metadata": {
    "id": "d13eca2e-acc4-4834-a348-895320f2154a",
    "outputId": "8939ca20-46b1-4bf4-eda4-eaebf3fe8596"
   },
   "outputs": [
    {
     "data": {
      "text/plain": [
       "['loss', 'accuracy']"
      ]
     },
     "execution_count": 33,
     "metadata": {},
     "output_type": "execute_result"
    }
   ],
   "source": [
    "model.metrics_names"
   ]
  },
  {
   "cell_type": "code",
   "execution_count": 34,
   "id": "9a63116b-6ec5-4605-9c07-63386a4ee963",
   "metadata": {
    "id": "9a63116b-6ec5-4605-9c07-63386a4ee963",
    "outputId": "fab5eaef-6bcd-49c1-9b4c-4977ccb088e7"
   },
   "outputs": [
    {
     "name": "stdout",
     "output_type": "stream",
     "text": [
      "163/163 [==============================] - 9s 57ms/step - loss: 0.1687 - accuracy: 0.9427\n"
     ]
    },
    {
     "data": {
      "text/plain": [
       "[0.1687345653772354, 0.9426922798156738]"
      ]
     },
     "execution_count": 34,
     "metadata": {},
     "output_type": "execute_result"
    }
   ],
   "source": [
    "model.evaluate(test_image_gen)"
   ]
  },
  {
   "cell_type": "code",
   "execution_count": 35,
   "id": "a5a2cd56-9317-42ce-8ac4-3966bd46bc7a",
   "metadata": {
    "id": "a5a2cd56-9317-42ce-8ac4-3966bd46bc7a",
    "outputId": "e44d6259-5e22-4f91-d3a2-863259af7be0"
   },
   "outputs": [
    {
     "name": "stdout",
     "output_type": "stream",
     "text": [
      "163/163 [==============================] - 9s 57ms/step\n"
     ]
    }
   ],
   "source": [
    "pred_probabilities = model.predict(test_image_gen)"
   ]
  },
  {
   "cell_type": "code",
   "execution_count": 36,
   "id": "1079b0df-2e96-4cfb-b39e-2f0069526c2b",
   "metadata": {
    "id": "1079b0df-2e96-4cfb-b39e-2f0069526c2b",
    "outputId": "aa9d89a9-7bc7-42a2-ea18-c2930f41d0c8"
   },
   "outputs": [
    {
     "data": {
      "text/plain": [
       "array([0, 0, 0, ..., 1, 1, 1], dtype=int32)"
      ]
     },
     "execution_count": 36,
     "metadata": {},
     "output_type": "execute_result"
    }
   ],
   "source": [
    "test_image_gen.classes"
   ]
  },
  {
   "cell_type": "code",
   "execution_count": 37,
   "id": "a2669710-0bca-46ed-b068-2a43ad783d28",
   "metadata": {
    "id": "a2669710-0bca-46ed-b068-2a43ad783d28"
   },
   "outputs": [],
   "source": [
    "predictions = pred_probabilities > 0.5"
   ]
  },
  {
   "cell_type": "code",
   "execution_count": 38,
   "id": "8ee42ece-4bf9-4970-b3f2-82674e5fede6",
   "metadata": {
    "id": "8ee42ece-4bf9-4970-b3f2-82674e5fede6",
    "outputId": "6a6543c3-c4fc-48f4-fa19-509ccad2318a"
   },
   "outputs": [
    {
     "name": "stdout",
     "output_type": "stream",
     "text": [
      "              precision    recall  f1-score   support\n",
      "\n",
      "           0       0.94      0.95      0.95      1300\n",
      "           1       0.95      0.94      0.95      1300\n",
      "\n",
      "    accuracy                           0.95      2600\n",
      "   macro avg       0.95      0.95      0.95      2600\n",
      "weighted avg       0.95      0.95      0.95      2600\n",
      "\n"
     ]
    }
   ],
   "source": [
    "print(classification_report(test_image_gen.classes,predictions))"
   ]
  },
  {
   "cell_type": "code",
   "execution_count": 39,
   "id": "9e1a2c5b-e5ef-4239-a929-329f7218efa7",
   "metadata": {
    "id": "9e1a2c5b-e5ef-4239-a929-329f7218efa7",
    "outputId": "c6be8f46-96cd-4187-849f-df01f584f349"
   },
   "outputs": [
    {
     "data": {
      "text/plain": [
       "array([[1239,   61],\n",
       "       [  80, 1220]])"
      ]
     },
     "execution_count": 39,
     "metadata": {},
     "output_type": "execute_result"
    }
   ],
   "source": [
    "confusion_matrix(test_image_gen.classes,predictions)"
   ]
  },
  {
   "cell_type": "code",
   "execution_count": 42,
   "id": "139c1b64-20e8-4fcc-9a5a-d6f6c95b168e",
   "metadata": {},
   "outputs": [
    {
     "name": "stderr",
     "output_type": "stream",
     "text": [
      "Clipping input data to the valid range for imshow with RGB data ([0..1] for floats or [0..255] for integers).\n"
     ]
    },
    {
     "name": "stdout",
     "output_type": "stream",
     "text": [
      "1/1 [==============================] - 0s 15ms/step\n",
      "False\n",
      "Cell is PARASITIZED\n"
     ]
    },
    {
     "data": {
      "image/png": "[encoded data removed]",
      "text/plain": [
       "<Figure size 432x288 with 1 Axes>"
      ]
     },
     "metadata": {
      "needs_background": "light"
     },
     "output_type": "display_data"
    }
   ],
   "source": [
    "from tensorflow.keras.preprocessing import image\n",
    "img = image.load_img('new.png')\n",
    "img=tf.convert_to_tensor(np.asarray(img))\n",
    "img=tf.image.resize(img,(130,130))\n",
    "img=img.numpy()\n",
    "type(img)\n",
    "plt.imshow(img)\n",
    "x_single_prediction = bool(model.predict(img.reshape(1,130,130,3))>0.6)\n",
    "print(x_single_prediction)\n",
    "if(x_single_prediction==1):\n",
    "    print(\"Cell is UNINFECTED\")\n",
    "else:\n",
    "    print(\"Cell is PARASITIZED\")"
   ]
  },
  {
   "cell_type": "code",
   "execution_count": null,
   "id": "15ba428f-6ce8-4a2e-8614-03de108a5847",
   "metadata": {},
   "outputs": [],
   "source": []
  }
 ],
 "metadata": {
  "colab": {
   "collapsed_sections": [],
   "provenance": [],
   "toc_visible": true
  },
  "kernelspec": {
   "display_name": "Python 3 (ipykernel)",
   "language": "python",
   "name": "python3"
  },
  "language_info": {
   "codemirror_mode": {
    "name": "ipython",
    "version": 3
   },
   "file_extension": ".py",
   "mimetype": "text/x-python",
   "name": "python",
   "nbconvert_exporter": "python",
   "pygments_lexer": "ipython3",
   "version": "3.8.10"
  },
  "toc-autonumbering": true,
  "toc-showcode": false
 },
 "nbformat": 4,
 "nbformat_minor": 5
}
